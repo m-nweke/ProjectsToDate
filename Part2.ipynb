{
  "nbformat": 4,
  "nbformat_minor": 0,
  "metadata": {
    "colab": {
      "name": "Part2.ipynb",
      "provenance": [],
      "collapsed_sections": [],
      "authorship_tag": "ABX9TyOqtb5UCYPBeJe0Um+gVz/6",
      "include_colab_link": true
    },
    "kernelspec": {
      "name": "python3",
      "display_name": "Python 3"
    },
    "language_info": {
      "name": "python"
    }
  },
  "cells": [
    {
      "cell_type": "markdown",
      "metadata": {
        "id": "view-in-github",
        "colab_type": "text"
      },
      "source": [
        "<a href=\"https://colab.research.google.com/github/m-nweke/ProjectsToDate/blob/main/Part2.ipynb\" target=\"_parent\"><img src=\"https://colab.research.google.com/assets/colab-badge.svg\" alt=\"Open In Colab\"/></a>"
      ]
    },
    {
      "cell_type": "code",
      "metadata": {
        "id": "mGzmlSxZGc7I"
      },
      "source": [
        "import pandas as pd\n",
        "from sklearn.decomposition import PCA\n",
        "from sklearn.preprocessing import LabelEncoder, StandardScaler\n",
        "from sklearn import preprocessing\n",
        "import matplotlib.pyplot as plt\n",
        "import seaborn as sns\n",
        "sns.set(style=\"white\", color_codes=True)\n",
        "import warnings\n",
        "warnings.filterwarnings(\"ignore\")"
      ],
      "execution_count": 92,
      "outputs": []
    },
    {
      "cell_type": "code",
      "metadata": {
        "colab": {
          "base_uri": "https://localhost:8080/"
        },
        "id": "f3ajbkFiGxjY",
        "outputId": "8484aa86-5c75-4edb-d53d-f517a429a267"
      },
      "source": [
        "dataset = pd.read_csv('CC.csv')\n",
        "x = dataset.iloc[:,[2,7,8,9,10,16,17]]\n",
        "y = dataset.iloc[:,13]\n",
        "print(x.shape, y.shape)\n",
        "# see how many samples we have of each species\n",
        "print(dataset[\"PURCHASES\"].value_counts())"
      ],
      "execution_count": 93,
      "outputs": [
        {
          "output_type": "stream",
          "text": [
            "(8950, 7) (8950,)\n",
            "0.00       2044\n",
            "45.65        27\n",
            "150.00       16\n",
            "60.00        16\n",
            "100.00       13\n",
            "           ... \n",
            "963.35        1\n",
            "1260.13       1\n",
            "203.60        1\n",
            "35.97         1\n",
            "169.66        1\n",
            "Name: PURCHASES, Length: 6203, dtype: int64\n"
          ],
          "name": "stdout"
        }
      ]
    },
    {
      "cell_type": "code",
      "metadata": {
        "colab": {
          "base_uri": "https://localhost:8080/"
        },
        "id": "Q44HYyKvGzj5",
        "outputId": "04556e8b-240d-4a31-ba52-2741a54ac9d5"
      },
      "source": [
        "nulls = pd.DataFrame(dataset.isnull().sum().sort_values(ascending=False)[:5])\n",
        "nulls.columns = ['Null Count']\n",
        "nulls.index.name = 'Feature'\n",
        "print(nulls)"
      ],
      "execution_count": 94,
      "outputs": [
        {
          "output_type": "stream",
          "text": [
            "                     Null Count\n",
            "Feature                        \n",
            "MINIMUM_PAYMENTS            313\n",
            "CREDIT_LIMIT                  1\n",
            "TENURE                        0\n",
            "PURCHASES_FREQUENCY           0\n",
            "BALANCE                       0\n"
          ],
          "name": "stdout"
        }
      ]
    },
    {
      "cell_type": "code",
      "metadata": {
        "id": "kTM2ffy6JwjW"
      },
      "source": [
        "new = pd.DataFrame(dataset.fillna(dataset.mean()))"
      ],
      "execution_count": 95,
      "outputs": []
    },
    {
      "cell_type": "code",
      "metadata": {
        "colab": {
          "base_uri": "https://localhost:8080/"
        },
        "id": "f6k0pewrJ4c0",
        "outputId": "0341b223-0af8-4e80-c74d-a55caf27f197"
      },
      "source": [
        "nulls = pd.DataFrame(new.isnull().sum().sort_values(ascending=False)[:5])\n",
        "nulls.columns = ['Null Count']\n",
        "nulls.index.name = 'Feature'\n",
        "print(nulls)"
      ],
      "execution_count": 96,
      "outputs": [
        {
          "output_type": "stream",
          "text": [
            "                   Null Count\n",
            "Feature                      \n",
            "TENURE                      0\n",
            "PRC_FULL_PAYMENT            0\n",
            "BALANCE                     0\n",
            "BALANCE_FREQUENCY           0\n",
            "PURCHASES                   0\n"
          ],
          "name": "stdout"
        }
      ]
    },
    {
      "cell_type": "code",
      "metadata": {
        "colab": {
          "base_uri": "https://localhost:8080/"
        },
        "id": "HggC1In3Mw7N",
        "outputId": "e88aba75-73a1-4a3e-dd9a-eef153e3f962"
      },
      "source": [
        "x = new.iloc[:,[2,7,8,9,10,16,17]]\n",
        "y = new.iloc[:,13]\n",
        "print(x.shape, y.shape)\n",
        "# see how many samples we have of each species\n",
        "print(new[\"PURCHASES\"].value_counts())"
      ],
      "execution_count": 97,
      "outputs": [
        {
          "output_type": "stream",
          "text": [
            "(8950, 7) (8950,)\n",
            "0.00       2044\n",
            "45.65        27\n",
            "150.00       16\n",
            "60.00        16\n",
            "100.00       13\n",
            "           ... \n",
            "963.35        1\n",
            "1260.13       1\n",
            "203.60        1\n",
            "35.97         1\n",
            "169.66        1\n",
            "Name: PURCHASES, Length: 6203, dtype: int64\n"
          ],
          "name": "stdout"
        }
      ]
    },
    {
      "cell_type": "code",
      "metadata": {
        "colab": {
          "base_uri": "https://localhost:8080/",
          "height": 301
        },
        "id": "nCi5sWr2KZCB",
        "outputId": "3e642ea2-4204-4c7a-a4fc-ac0cdc548b20"
      },
      "source": [
        "from sklearn.cluster import KMeans\n",
        "wcss=[]\n",
        "for i in range(1,11):\n",
        "  kmeans=KMeans(n_clusters=i, max_iter=300, random_state=0)\n",
        "  kmeans.fit(x)\n",
        "  wcss.append(kmeans.inertia_)\n",
        "\n",
        "plt.plot(range(1,11),wcss)\n",
        "plt.title('Elbow Method')\n",
        "plt.xlabel('# of Clusters')\n",
        "plt.ylabel('WCSS')\n",
        "plt.show()\n"
      ],
      "execution_count": 98,
      "outputs": [
        {
          "output_type": "display_data",
          "data": {
            "image/png": "[encoded data removed]",
            "text/plain": [
              "<Figure size 432x288 with 1 Axes>"
            ]
          },
          "metadata": {
            "tags": []
          }
        }
      ]
    },
    {
      "cell_type": "code",
      "metadata": {
        "id": "3jgcMW3mM7d4"
      },
      "source": [
        "nclusters = 2\n",
        "km = KMeans(n_clusters= nclusters)\n",
        "km.fit(x)\n",
        "y_cluster_kmeans = km.predict(x)"
      ],
      "execution_count": 99,
      "outputs": []
    },
    {
      "cell_type": "code",
      "metadata": {
        "colab": {
          "base_uri": "https://localhost:8080/"
        },
        "id": "zkaWaACMOgK-",
        "outputId": "e7430489-7ae1-40ea-90c3-aa4577423d37"
      },
      "source": [
        "from sklearn import metrics\n",
        "score=metrics.silhouette_score(x,km.labels_)\n",
        "print(score)"
      ],
      "execution_count": 100,
      "outputs": [
        {
          "output_type": "stream",
          "text": [
            "0.7398749590675219\n"
          ],
          "name": "stdout"
        }
      ]
    },
    {
      "cell_type": "code",
      "metadata": {
        "id": "4BnMm8ztTPnS"
      },
      "source": [
        "scaler = preprocessing.StandardScaler()\n",
        "scaler.fit(x)\n",
        "x_scaled_array = scaler.transform(x)\n",
        "x_scaled = pd.DataFrame(x_scaled_array, columns= x.columns)"
      ],
      "execution_count": 101,
      "outputs": []
    },
    {
      "cell_type": "code",
      "metadata": {
        "id": "O7sZzBckUMCR"
      },
      "source": [
        "nclusters = 2\n",
        "km = KMeans(n_clusters= nclusters)\n",
        "km.fit(x_scaled)\n",
        "y_cluster_kmeans = km.predict(x_scaled)"
      ],
      "execution_count": 102,
      "outputs": []
    },
    {
      "cell_type": "code",
      "metadata": {
        "colab": {
          "base_uri": "https://localhost:8080/"
        },
        "id": "plFnjO2IUT5F",
        "outputId": "93044bb6-2b63-4192-cfa5-573d7073772b"
      },
      "source": [
        "from sklearn import metrics\n",
        "score=metrics.silhouette_score(x,km.labels_)\n",
        "print(score)"
      ],
      "execution_count": 103,
      "outputs": [
        {
          "output_type": "stream",
          "text": [
            "0.268521847906901\n"
          ],
          "name": "stdout"
        }
      ]
    },
    {
      "cell_type": "code",
      "metadata": {
        "id": "D66jkFc0U4rT"
      },
      "source": [
        "x_scaler = scaler.transform(x)\n",
        "pca = PCA(2)  # Instantiate the model with hyperparameters\n",
        "x_pca = pca.fit_transform(x_scaler) # Fit to data and transform. Notice y is not specified!"
      ],
      "execution_count": 106,
      "outputs": []
    },
    {
      "cell_type": "code",
      "metadata": {
        "colab": {
          "base_uri": "https://localhost:8080/"
        },
        "id": "GIeNq1B9VMqE",
        "outputId": "6e6f688e-e17f-4fe5-b29d-88a6e6ddbf58"
      },
      "source": [
        "df2 = pd.DataFrame(data=x_pca)\n",
        "finaldf = pd.concat([df2, dataset[['PURCHASES']]],axis=1)\n",
        "print(finaldf)\n",
        "scores_pca=pca.transform(x_scaler)"
      ],
      "execution_count": 109,
      "outputs": [
        {
          "output_type": "stream",
          "text": [
            "             0         1  PURCHASES\n",
            "0     1.065522  0.483733      95.40\n",
            "1     1.510859 -0.069947       0.00\n",
            "2    -1.390272 -1.027939     773.17\n",
            "3     1.454720  0.765417    1499.00\n",
            "4     1.080545 -0.103412      16.00\n",
            "...        ...       ...        ...\n",
            "8945 -1.346587  1.145157     291.12\n",
            "8946 -0.829171  0.451953     300.00\n",
            "8947 -0.496566  1.331756     144.40\n",
            "8948  1.911805  1.101999       0.00\n",
            "8949  0.736841  0.158385    1093.25\n",
            "\n",
            "[8950 rows x 3 columns]\n"
          ],
          "name": "stdout"
        }
      ]
    },
    {
      "cell_type": "code",
      "metadata": {
        "colab": {
          "base_uri": "https://localhost:8080/",
          "height": 301
        },
        "id": "PVQoMsGHVT80",
        "outputId": "3ab42e13-ab1d-4f76-bb72-01feb2b0c34c"
      },
      "source": [
        "wcss=[]\n",
        "for i in range(1,11):\n",
        "  kmeans_pca= KMeans(n_clusters=i, init='k-means++', random_state=42)\n",
        "  kmeans_pca.fit(scores_pca)\n",
        "  wcss.append(kmeans_pca.inertia_)\n",
        "\n",
        "plt.plot(range(1,11),wcss)\n",
        "plt.title('Elbow Method')\n",
        "plt.xlabel('# of Clusters')\n",
        "plt.ylabel('WCSS')\n",
        "plt.show()"
      ],
      "execution_count": 112,
      "outputs": [
        {
          "output_type": "display_data",
          "data": {
            "image/png": "[encoded data removed]",
            "text/plain": [
              "<Figure size 432x288 with 1 Axes>"
            ]
          },
          "metadata": {
            "tags": []
          }
        }
      ]
    },
    {
      "cell_type": "code",
      "metadata": {
        "id": "DGU-f2CBdQYN"
      },
      "source": [
        "nclusters = 3\n",
        "km = KMeans(n_clusters= nclusters)\n",
        "km.fit(x)\n",
        "y_cluster_kmeans = km.predict(x)"
      ],
      "execution_count": 113,
      "outputs": []
    },
    {
      "cell_type": "code",
      "metadata": {
        "colab": {
          "base_uri": "https://localhost:8080/"
        },
        "id": "fxdPRJTedR11",
        "outputId": "d335eb07-5fd9-4b88-ccff-c58ee375de7c"
      },
      "source": [
        "from sklearn import metrics\n",
        "score=metrics.silhouette_score(x,km.labels_)\n",
        "print(score)"
      ],
      "execution_count": 114,
      "outputs": [
        {
          "output_type": "stream",
          "text": [
            "0.4007523761735748\n"
          ],
          "name": "stdout"
        }
      ]
    }
  ]
}